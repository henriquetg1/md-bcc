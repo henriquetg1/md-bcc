{
 "cells": [
  {
   "cell_type": "markdown",
   "metadata": {},
   "source": [
    "# Mais sobre `SELECT`\n",
    "\n",
    "- temporary tables\n",
    "- views\n",
    "- variables\n",
    "- subqueries\n"
   ]
  },
  {
   "cell_type": "code",
   "execution_count": 2,
   "metadata": {},
   "outputs": [],
   "source": [
    "from functools import partial\n",
    "from dotenv import load_dotenv\n",
    "import insperautograder.jupyter as ia\n",
    "import mysql.connector\n",
    "import os\n",
    "\n",
    "load_dotenv(override=True)\n",
    "\n",
    "connection = mysql.connector.connect(\n",
    "    host=os.getenv(\"MD_DB_SERVER\"),\n",
    "    user=os.getenv(\"MD_DB_USERNAME\"),\n",
    "    password=os.getenv(\"MD_DB_PASSWORD\"),\n",
    "    database=\"sakila\"\n",
    ")\n",
    "\n",
    "def run_db_query(connection, query, args=None):\n",
    "    with connection.cursor() as cursor:\n",
    "        print(\"Executando query:\")\n",
    "        cursor.execute(query, args)\n",
    "        for result in cursor:\n",
    "            print(result)\n",
    "\n",
    "db = partial(run_db_query, connection)"
   ]
  },
  {
   "cell_type": "markdown",
   "metadata": {},
   "source": [
    "## Exercícios para entrega\n",
    "\n",
    "Esta aula tem atividade para entrega, confira os prazos e exercícios"
   ]
  },
  {
   "cell_type": "code",
   "execution_count": 3,
   "metadata": {},
   "outputs": [
    {
     "data": {
      "text/markdown": [
       "|    | Atividade    | De                  | Até                 |\n",
       "|---:|:-------------|:--------------------|:--------------------|\n",
       "|  0 | newborn      | 2025-02-01 00:00:00 | 2025-05-30 00:00:00 |\n",
       "|  1 | select01     | 2025-02-06 16:00:00 | 2025-02-15 23:59:59 |\n",
       "|  2 | ddl          | 2025-02-20 00:00:00 | 2025-02-27 23:59:59 |\n",
       "|  3 | dml          | 2025-02-24 00:00:00 | 2025-03-06 15:45:59 |\n",
       "|  4 | agg_join     | 2025-02-26 00:00:00 | 2025-03-09 23:59:59 |\n",
       "|  5 | group_having | 2025-03-06 00:00:00 | 2025-03-13 23:59:59 |\n",
       "|  6 | views        | 2025-03-10 00:00:00 | 2025-03-16 23:59:59 |\n",
       "|  7 | sql_review1  | 2025-03-13 00:00:00 | 2025-03-20 23:59:59 |"
      ],
      "text/plain": [
       "<IPython.core.display.Markdown object>"
      ]
     },
     "metadata": {},
     "output_type": "display_data"
    }
   ],
   "source": [
    "ia.tasks()"
   ]
  },
  {
   "cell_type": "code",
   "execution_count": 4,
   "metadata": {},
   "outputs": [
    {
     "data": {
      "text/markdown": [
       "|    | Tarefa       |   Nota |\n",
       "|---:|:-------------|-------:|\n",
       "|  0 | agg_join     |   8.33 |\n",
       "|  1 | ddl          |  10    |\n",
       "|  2 | dml          |  10    |\n",
       "|  3 | group_having |  10    |\n",
       "|  4 | newborn      |  10    |\n",
       "|  5 | select01     |  10    |\n",
       "|  6 | sql_review1  |   0    |\n",
       "|  7 | views        |   2.5  |"
      ],
      "text/plain": [
       "<IPython.core.display.Markdown object>"
      ]
     },
     "metadata": {},
     "output_type": "display_data"
    }
   ],
   "source": [
    "ia.grades(by=\"task\")"
   ]
  },
  {
   "cell_type": "code",
   "execution_count": 5,
   "metadata": {},
   "outputs": [
    {
     "data": {
      "text/markdown": [
       "|    | Atividade   | Exercício   |   Peso |   Nota |\n",
       "|---:|:------------|:------------|-------:|-------:|\n",
       "|  0 | views       | ex01        |      1 |     10 |\n",
       "|  1 | views       | ex02        |      1 |     10 |\n",
       "|  2 | views       | ex03        |      1 |     10 |\n",
       "|  3 | views       | ex04        |      1 |      0 |\n",
       "|  4 | views       | ex05        |      1 |      0 |\n",
       "|  5 | views       | ex06        |      1 |      0 |\n",
       "|  6 | views       | ex07        |      1 |      0 |\n",
       "|  7 | views       | ex08        |      1 |      0 |\n",
       "|  8 | views       | ex09        |      1 |      0 |\n",
       "|  9 | views       | ex10        |      1 |      0 |\n",
       "| 10 | views       | ex11        |      1 |      0 |\n",
       "| 11 | views       | ex12        |      1 |      0 |"
      ],
      "text/plain": [
       "<IPython.core.display.Markdown object>"
      ]
     },
     "metadata": {},
     "output_type": "display_data"
    }
   ],
   "source": [
    "ia.grades(task=\"views\")"
   ]
  },
  {
   "cell_type": "markdown",
   "metadata": {},
   "source": [
    "## Aquecimento"
   ]
  },
  {
   "cell_type": "markdown",
   "metadata": {},
   "source": [
    "Quanta receita foi gerada para cada categoria de filmes? Mostre o nome da categoria e a receita. Ordene da maior receita para para a menor."
   ]
  },
  {
   "cell_type": "code",
   "execution_count": 6,
   "metadata": {},
   "outputs": [
    {
     "name": "stdout",
     "output_type": "stream",
     "text": [
      "Executando query:\n",
      "('Sports', Decimal('5314.21'))\n",
      "('Sci-Fi', Decimal('4756.98'))\n",
      "('Animation', Decimal('4656.30'))\n",
      "('Drama', Decimal('4587.39'))\n",
      "('Comedy', Decimal('4383.58'))\n",
      "('Action', Decimal('4375.85'))\n",
      "('New', Decimal('4351.62'))\n",
      "('Games', Decimal('4281.33'))\n",
      "('Foreign', Decimal('4270.67'))\n",
      "('Family', Decimal('4226.07'))\n",
      "('Documentary', Decimal('4217.52'))\n",
      "('Horror', Decimal('3722.54'))\n",
      "('Children', Decimal('3655.55'))\n",
      "('Classics', Decimal('3639.59'))\n",
      "('Travel', Decimal('3549.64'))\n",
      "('Music', Decimal('3417.72'))\n"
     ]
    }
   ],
   "source": [
    "sql_ex01 = \"\"\"\n",
    "SELECT category.name, SUM(payment.amount) AS receita\n",
    "FROM category\n",
    "JOIN film_category ON category.category_id = film_category.category_id\n",
    "JOIN film ON film_category.film_id = film.film_id\n",
    "JOIN inventory ON film.film_id = inventory.film_id\n",
    "JOIN rental ON inventory.inventory_id = rental.inventory_id\n",
    "JOIN payment ON rental.rental_id = payment.rental_id\n",
    "GROUP BY category.name\n",
    "ORDER BY receita DESC;\n",
    "\"\"\"\n",
    "\n",
    "db(sql_ex01)"
   ]
  },
  {
   "cell_type": "code",
   "execution_count": null,
   "metadata": {},
   "outputs": [
    {
     "data": {
      "application/vnd.jupyter.widget-view+json": {
       "model_id": "48c5b0263a83453d8b8da9b210f4b804",
       "version_major": 2,
       "version_minor": 0
      },
      "text/plain": [
       "interactive(children=(Button(description='Enviar ex01', style=ButtonStyle()), Output()), _dom_classes=('widget…"
      ]
     },
     "metadata": {},
     "output_type": "display_data"
    }
   ],
   "source": [
    "ia.sender(answer=\"sql_ex01\", task=\"views\", question=\"ex01\", answer_type=\"pyvar\")"
   ]
  },
  {
   "cell_type": "markdown",
   "metadata": {},
   "source": [
    "Liste os 10 filmes mais alugados e o numero de vezes em que foram alugados. Ordene do mais alugado para o menos alugado.\n",
    "\n",
    "Caso exista empate, como segundo critério, ordene de forma crescente pelo nome do filme."
   ]
  },
  {
   "cell_type": "code",
   "execution_count": null,
   "metadata": {},
   "outputs": [
    {
     "name": "stdout",
     "output_type": "stream",
     "text": [
      "Executando query:\n",
      "('BUCKET BROTHERHOOD', 34)\n",
      "('ROCKETEER MOTHER', 33)\n",
      "('FORWARD TEMPLE', 32)\n",
      "('GRIT CLOCKWORK', 32)\n",
      "('JUGGLER HARDLY', 32)\n",
      "('RIDGEMONT SUBMARINE', 32)\n",
      "('SCALAWAG DUCK', 32)\n",
      "('APACHE DIVINE', 31)\n",
      "('GOODFELLAS SALUTE', 31)\n",
      "('HOBBIT ALIEN', 31)\n"
     ]
    }
   ],
   "source": [
    "sql_ex02 = \"\"\"\n",
    "SELECT film.title, COUNT(rental.rental_id) AS num_alugueis\n",
    "FROM film\n",
    "JOIN inventory ON film.film_id = inventory.film_id\n",
    "JOIN rental ON inventory.inventory_id = rental.inventory_id\n",
    "GROUP BY film.title\n",
    "ORDER BY num_alugueis DESC, film.title ASC\n",
    "LIMIT 10;\n",
    "\"\"\"\n",
    "\n",
    "db(sql_ex02)"
   ]
  },
  {
   "cell_type": "code",
   "execution_count": null,
   "metadata": {},
   "outputs": [
    {
     "data": {
      "application/vnd.jupyter.widget-view+json": {
       "model_id": "3c38ce3c28bc47619a8eda34ac92da1e",
       "version_major": 2,
       "version_minor": 0
      },
      "text/plain": [
       "interactive(children=(Button(description='Enviar ex02', style=ButtonStyle()), Output()), _dom_classes=('widget…"
      ]
     },
     "metadata": {},
     "output_type": "display_data"
    }
   ],
   "source": [
    "ia.sender(answer=\"sql_ex02\", task=\"views\", question=\"ex02\", answer_type=\"pyvar\")"
   ]
  },
  {
   "cell_type": "markdown",
   "metadata": {},
   "source": [
    "**DESAFIO:** Liste os filmes e o numero de vezes em que foram alugados apenas para filmes que foram alugados mais do que a média de numero de alugueis por filme. *Dica*: Serão necessários múltiplos SELECTs. Faça cada um em uma célula diferente."
   ]
  },
  {
   "cell_type": "code",
   "execution_count": null,
   "metadata": {},
   "outputs": [
    {
     "name": "stdout",
     "output_type": "stream",
     "text": [
      "Executando query:\n",
      "Executando query:\n",
      "Executando query:\n",
      "Executando query:\n"
     ]
    }
   ],
   "source": [
    "db(\"\"\"\n",
    "-- SUA QUERY AQUI!\n",
    "\"\"\")\n",
    "db(\"\"\"\n",
    "-- SUA QUERY AQUI!\n",
    "\"\"\")\n",
    "db(\"\"\"\n",
    "-- SUA QUERY AQUI!\n",
    "\"\"\")\n",
    "db(\"\"\"\n",
    "-- SUA QUERY AQUI!\n",
    "\"\"\")"
   ]
  },
  {
   "cell_type": "markdown",
   "metadata": {
    "tags": []
   },
   "source": [
    "## Views\n",
    "\n",
    "Uma *view* é uma tabela virtual, construida a partir de um comando `SELECT`. Por exemplo: execute o código a seguir."
   ]
  },
  {
   "cell_type": "code",
   "execution_count": null,
   "metadata": {},
   "outputs": [
    {
     "name": "stdout",
     "output_type": "stream",
     "text": [
      "Executando query:\n",
      "Executando query:\n"
     ]
    }
   ],
   "source": [
    "db(\"\"\"\n",
    "DROP VIEW IF EXISTS movie_count;\n",
    "\"\"\")\n",
    "\n",
    "db(\"\"\"\n",
    "CREATE VIEW movie_count AS\n",
    "    SELECT \n",
    "        title, COUNT(rental_id) as cnt\n",
    "    FROM\n",
    "        film\n",
    "        LEFT OUTER JOIN inventory USING (film_id)\n",
    "        LEFT OUTER JOIN rental USING (inventory_id)\n",
    "    GROUP BY\n",
    "        film_id\n",
    "    ORDER BY\n",
    "        cnt ASC;\n",
    "\"\"\")"
   ]
  },
  {
   "cell_type": "markdown",
   "metadata": {},
   "source": [
    "Agora temos uma *view* chamada `movie_count`. Vamos verificar que ela funcionou, listando as 30 primeiras linhas:"
   ]
  },
  {
   "cell_type": "code",
   "execution_count": null,
   "metadata": {},
   "outputs": [
    {
     "name": "stdout",
     "output_type": "stream",
     "text": [
      "Executando query:\n",
      "('ALICE FANTASIA', 0)\n",
      "('APOLLO TEEN', 0)\n",
      "('ARGONAUTS TOWN', 0)\n",
      "('ARK RIDGEMONT', 0)\n",
      "('ARSENIC INDEPENDENCE', 0)\n",
      "('BOONDOCK BALLROOM', 0)\n",
      "('BUTCH PANTHER', 0)\n",
      "('CATCH AMISTAD', 0)\n",
      "('CHINATOWN GLADIATOR', 0)\n",
      "('CHOCOLATE DUCK', 0)\n",
      "('COMMANDMENTS EXPRESS', 0)\n",
      "('CROSSING DIVORCE', 0)\n",
      "('CROWDS TELEMARK', 0)\n",
      "('CRYSTAL BREAKING', 0)\n",
      "('DAZED PUNK', 0)\n",
      "('DELIVERANCE MULHOLLAND', 0)\n",
      "('FIREHOUSE VIETNAM', 0)\n",
      "('FLOATS GARDEN', 0)\n",
      "('FRANKENSTEIN STRANGER', 0)\n",
      "('GLADIATOR WESTWARD', 0)\n",
      "('GUMP DATE', 0)\n",
      "('HATE HANDICAP', 0)\n",
      "('HOCUS FRIDA', 0)\n",
      "('KENTUCKIAN GIANT', 0)\n",
      "('KILL BROTHERHOOD', 0)\n",
      "('MUPPET MILE', 0)\n",
      "('ORDER BETRAYED', 0)\n",
      "('PEARL DESTINY', 0)\n",
      "('PERDITION FARGO', 0)\n",
      "('PSYCHO SHRUNK', 0)\n"
     ]
    }
   ],
   "source": [
    "db(\"\"\"\n",
    "SELECT \n",
    "    *\n",
    "FROM\n",
    "    movie_count \n",
    "LIMIT \n",
    "    30\n",
    "\"\"\")"
   ]
  },
  {
   "cell_type": "code",
   "execution_count": null,
   "metadata": {},
   "outputs": [
    {
     "name": "stdout",
     "output_type": "stream",
     "text": [
      "Executando query:\n",
      "('BUCKET BROTHERHOOD', 34)\n",
      "('ROCKETEER MOTHER', 33)\n",
      "('JUGGLER HARDLY', 32)\n",
      "('GRIT CLOCKWORK', 32)\n",
      "('FORWARD TEMPLE', 32)\n",
      "('SCALAWAG DUCK', 32)\n",
      "('RIDGEMONT SUBMARINE', 32)\n",
      "('ZORRO ARK', 31)\n",
      "('WIFE TURN', 31)\n",
      "('TIMBERLAND SKY', 31)\n",
      "('RUSH GOODFELLAS', 31)\n",
      "('ROBBERS JOON', 31)\n",
      "('NETWORK PEAK', 31)\n",
      "('HOBBIT ALIEN', 31)\n",
      "('GOODFELLAS SALUTE', 31)\n",
      "('APACHE DIVINE', 31)\n",
      "('WITCHES PANIC', 30)\n",
      "('SUSPECTS QUILLS', 30)\n",
      "('SHOCK CABIN', 30)\n",
      "('RUGRATS SHAKESPEARE', 30)\n",
      "('PULP BEVERLY', 30)\n",
      "('MUSCLE BRIGHT', 30)\n",
      "('MASSACRE USUAL', 30)\n",
      "('MARRIED GO', 30)\n",
      "('IDOLS SNATCHERS', 30)\n",
      "('HARRY IDAHO', 30)\n",
      "('GRAFFITI LOVE', 30)\n",
      "('FROST HEAD', 30)\n",
      "('ENGLISH BULWORTH', 30)\n",
      "('DOGMA FAMILY', 30)\n"
     ]
    }
   ],
   "source": [
    "db(\"\"\"\n",
    "SELECT \n",
    "    * \n",
    "FROM \n",
    "    movie_count \n",
    "ORDER BY\n",
    "    cnt DESC\n",
    "LIMIT 30\n",
    "\"\"\")"
   ]
  },
  {
   "cell_type": "markdown",
   "metadata": {},
   "source": [
    "Agora suponha que alteramos a tabela `film`, mudando o nome do filme \"DAZED PUNK\" para \"STONED PUNK\".\n",
    "\n",
    "**Atividade**: Do it."
   ]
  },
  {
   "cell_type": "code",
   "execution_count": null,
   "metadata": {},
   "outputs": [
    {
     "name": "stdout",
     "output_type": "stream",
     "text": [
      "Executando query:\n"
     ]
    }
   ],
   "source": [
    "db(\"\"\"\n",
    "UPDATE film\n",
    "SET title = 'STONED PUNK'\n",
    "WHERE film.title = 'DAZED PUNK';\n",
    "\"\"\")"
   ]
  },
  {
   "cell_type": "markdown",
   "metadata": {},
   "source": [
    "Verifique agora a nossa *view*:"
   ]
  },
  {
   "cell_type": "code",
   "execution_count": null,
   "metadata": {},
   "outputs": [
    {
     "name": "stdout",
     "output_type": "stream",
     "text": [
      "Executando query:\n",
      "('ALICE FANTASIA', 0)\n",
      "('APOLLO TEEN', 0)\n",
      "('ARGONAUTS TOWN', 0)\n",
      "('ARK RIDGEMONT', 0)\n",
      "('ARSENIC INDEPENDENCE', 0)\n",
      "('BOONDOCK BALLROOM', 0)\n",
      "('BUTCH PANTHER', 0)\n",
      "('CATCH AMISTAD', 0)\n",
      "('CHINATOWN GLADIATOR', 0)\n",
      "('CHOCOLATE DUCK', 0)\n",
      "('COMMANDMENTS EXPRESS', 0)\n",
      "('CROSSING DIVORCE', 0)\n",
      "('CROWDS TELEMARK', 0)\n",
      "('CRYSTAL BREAKING', 0)\n",
      "('STONED PUNK', 0)\n",
      "('DELIVERANCE MULHOLLAND', 0)\n",
      "('FIREHOUSE VIETNAM', 0)\n",
      "('FLOATS GARDEN', 0)\n",
      "('FRANKENSTEIN STRANGER', 0)\n",
      "('GLADIATOR WESTWARD', 0)\n",
      "('GUMP DATE', 0)\n",
      "('HATE HANDICAP', 0)\n",
      "('HOCUS FRIDA', 0)\n",
      "('KENTUCKIAN GIANT', 0)\n",
      "('KILL BROTHERHOOD', 0)\n",
      "('MUPPET MILE', 0)\n",
      "('ORDER BETRAYED', 0)\n",
      "('PEARL DESTINY', 0)\n",
      "('PERDITION FARGO', 0)\n",
      "('PSYCHO SHRUNK', 0)\n"
     ]
    }
   ],
   "source": [
    "db(\"\"\"\n",
    "SELECT\n",
    "    *\n",
    "FROM\n",
    "    movie_count\n",
    "LIMIT\n",
    "    30\n",
    "\"\"\")"
   ]
  },
  {
   "cell_type": "markdown",
   "metadata": {},
   "source": [
    "Como você pode ver, as views são tabelas virtuais que são **automaticamente atualizadas quando as tabelas originais são modificadas**.\n",
    "\n",
    "Sempre que você realizar modificações nos dados, dê `commit` ou `rollback`. Ainda, evite executar múltiplas vezes as linhas de código que criem a conexão sem antes ter fechado a conexão ativa.\n",
    "\n",
    "Vamos desfazer as alterações:"
   ]
  },
  {
   "cell_type": "code",
   "execution_count": null,
   "metadata": {},
   "outputs": [],
   "source": [
    "connection.rollback()"
   ]
  },
  {
   "cell_type": "markdown",
   "metadata": {},
   "source": [
    "Conferindo:"
   ]
  },
  {
   "cell_type": "code",
   "execution_count": null,
   "metadata": {},
   "outputs": [
    {
     "name": "stdout",
     "output_type": "stream",
     "text": [
      "Executando query:\n",
      "('ALICE FANTASIA', 0)\n",
      "('APOLLO TEEN', 0)\n",
      "('ARGONAUTS TOWN', 0)\n",
      "('ARK RIDGEMONT', 0)\n",
      "('ARSENIC INDEPENDENCE', 0)\n",
      "('BOONDOCK BALLROOM', 0)\n",
      "('BUTCH PANTHER', 0)\n",
      "('CATCH AMISTAD', 0)\n",
      "('CHINATOWN GLADIATOR', 0)\n",
      "('CHOCOLATE DUCK', 0)\n",
      "('COMMANDMENTS EXPRESS', 0)\n",
      "('CROSSING DIVORCE', 0)\n",
      "('CROWDS TELEMARK', 0)\n",
      "('CRYSTAL BREAKING', 0)\n",
      "('DAZED PUNK', 0)\n",
      "('DELIVERANCE MULHOLLAND', 0)\n",
      "('FIREHOUSE VIETNAM', 0)\n",
      "('FLOATS GARDEN', 0)\n",
      "('FRANKENSTEIN STRANGER', 0)\n",
      "('GLADIATOR WESTWARD', 0)\n",
      "('GUMP DATE', 0)\n",
      "('HATE HANDICAP', 0)\n",
      "('HOCUS FRIDA', 0)\n",
      "('KENTUCKIAN GIANT', 0)\n",
      "('KILL BROTHERHOOD', 0)\n",
      "('MUPPET MILE', 0)\n",
      "('ORDER BETRAYED', 0)\n",
      "('PEARL DESTINY', 0)\n",
      "('PERDITION FARGO', 0)\n",
      "('PSYCHO SHRUNK', 0)\n"
     ]
    }
   ],
   "source": [
    "db(\"\"\"\n",
    "SELECT\n",
    "    *\n",
    "FROM\n",
    "    movie_count\n",
    "LIMIT\n",
    "    30\n",
    "\"\"\")"
   ]
  },
  {
   "cell_type": "markdown",
   "metadata": {},
   "source": [
    "### Vamos praticar"
   ]
  },
  {
   "cell_type": "markdown",
   "metadata": {},
   "source": [
    "Verifique quantas vezes o filme \"COWBOY DOOM\" foi alugado usando a view `movie_count`"
   ]
  },
  {
   "cell_type": "code",
   "execution_count": null,
   "metadata": {},
   "outputs": [
    {
     "name": "stdout",
     "output_type": "stream",
     "text": [
      "Executando query:\n",
      "(7,)\n"
     ]
    }
   ],
   "source": [
    "sql_ex03 = \"\"\"\n",
    "SELECT cnt\n",
    "FROM movie_count\n",
    "WHERE title = 'COWBOY DOOM';\n",
    "\"\"\"\n",
    "\n",
    "db(sql_ex03)"
   ]
  },
  {
   "cell_type": "code",
   "execution_count": null,
   "metadata": {},
   "outputs": [
    {
     "data": {
      "application/vnd.jupyter.widget-view+json": {
       "model_id": "6261e0b0821647cba365eb4f7c26d9ab",
       "version_major": 2,
       "version_minor": 0
      },
      "text/plain": [
       "interactive(children=(Button(description='Enviar ex03', style=ButtonStyle()), Output()), _dom_classes=('widget…"
      ]
     },
     "metadata": {},
     "output_type": "display_data"
    }
   ],
   "source": [
    "ia.sender(answer=\"sql_ex03\", task=\"views\", question=\"ex03\", answer_type=\"pyvar\")"
   ]
  },
  {
   "cell_type": "markdown",
   "metadata": {},
   "source": [
    "Registre um aluguel do filme \"COWBOY DOOM\" (com o menor id possível), feito pelo funcionario \"Jon Stephens\" na loja id=1 para o cliente \"JESSIE BANKS\", na data '2019-01-01', com data de retorno '2019-01-08'."
   ]
  },
  {
   "cell_type": "code",
   "execution_count": 9,
   "metadata": {},
   "outputs": [
    {
     "ename": "OperationalError",
     "evalue": "MySQL Connection not available.",
     "output_type": "error",
     "traceback": [
      "\u001b[1;31m---------------------------------------------------------------------------\u001b[0m",
      "\u001b[1;31mOperationalError\u001b[0m                          Traceback (most recent call last)",
      "Cell \u001b[1;32mIn[9], line 25\u001b[0m\n\u001b[0;32m      1\u001b[0m sql_ex04 \u001b[38;5;241m=\u001b[39m \u001b[38;5;124m\"\"\"\u001b[39m\n\u001b[0;32m      2\u001b[0m \u001b[38;5;124mSELECT MIN(inventory.inventory_id)\u001b[39m\n\u001b[0;32m      3\u001b[0m \u001b[38;5;124mINTO @inventory_id\u001b[39m\n\u001b[1;32m   (...)\u001b[0m\n\u001b[0;32m     22\u001b[0m \u001b[38;5;124m    (\u001b[39m\u001b[38;5;124m'\u001b[39m\u001b[38;5;124m2019-01-01\u001b[39m\u001b[38;5;124m'\u001b[39m\u001b[38;5;124m, @inventory_id, @customer_id, \u001b[39m\u001b[38;5;124m'\u001b[39m\u001b[38;5;124m2019-01-08\u001b[39m\u001b[38;5;124m'\u001b[39m\u001b[38;5;124m, @staff_id);\u001b[39m\n\u001b[0;32m     23\u001b[0m \u001b[38;5;124m\"\"\"\u001b[39m\n\u001b[1;32m---> 25\u001b[0m \u001b[43mdb\u001b[49m\u001b[43m(\u001b[49m\u001b[43msql_ex04\u001b[49m\u001b[43m)\u001b[49m\n",
      "Cell \u001b[1;32mIn[2], line 17\u001b[0m, in \u001b[0;36mrun_db_query\u001b[1;34m(connection, query, args)\u001b[0m\n\u001b[0;32m     16\u001b[0m \u001b[38;5;28;01mdef\u001b[39;00m\u001b[38;5;250m \u001b[39m\u001b[38;5;21mrun_db_query\u001b[39m(connection, query, args\u001b[38;5;241m=\u001b[39m\u001b[38;5;28;01mNone\u001b[39;00m):\n\u001b[1;32m---> 17\u001b[0m     \u001b[38;5;28;01mwith\u001b[39;00m \u001b[43mconnection\u001b[49m\u001b[38;5;241;43m.\u001b[39;49m\u001b[43mcursor\u001b[49m\u001b[43m(\u001b[49m\u001b[43m)\u001b[49m \u001b[38;5;28;01mas\u001b[39;00m cursor:\n\u001b[0;32m     18\u001b[0m         \u001b[38;5;28mprint\u001b[39m(\u001b[38;5;124m\"\u001b[39m\u001b[38;5;124mExecutando query:\u001b[39m\u001b[38;5;124m\"\u001b[39m)\n\u001b[0;32m     19\u001b[0m         cursor\u001b[38;5;241m.\u001b[39mexecute(query, args)\n",
      "File \u001b[1;32mc:\\Users\\henri\\AppData\\Local\\Programs\\Python\\Python313\\Lib\\site-packages\\mysql\\connector\\connection_cext.py:824\u001b[0m, in \u001b[0;36mCMySQLConnection.cursor\u001b[1;34m(self, buffered, raw, prepared, cursor_class, dictionary, named_tuple, read_timeout, write_timeout)\u001b[0m\n\u001b[0;32m    822\u001b[0m \u001b[38;5;28mself\u001b[39m\u001b[38;5;241m.\u001b[39mhandle_unread_result(prepared)\n\u001b[0;32m    823\u001b[0m \u001b[38;5;28;01mif\u001b[39;00m \u001b[38;5;129;01mnot\u001b[39;00m \u001b[38;5;28mself\u001b[39m\u001b[38;5;241m.\u001b[39mis_connected():\n\u001b[1;32m--> 824\u001b[0m     \u001b[38;5;28;01mraise\u001b[39;00m OperationalError(\u001b[38;5;124m\"\u001b[39m\u001b[38;5;124mMySQL Connection not available.\u001b[39m\u001b[38;5;124m\"\u001b[39m)\n\u001b[0;32m    825\u001b[0m \u001b[38;5;28;01mif\u001b[39;00m read_timeout \u001b[38;5;129;01mor\u001b[39;00m write_timeout:\n\u001b[0;32m    826\u001b[0m     warnings\u001b[38;5;241m.\u001b[39mwarn(\n\u001b[0;32m    827\u001b[0m \u001b[38;5;250m        \u001b[39m\u001b[38;5;124;03m\"\"\"The use of read_timeout after the connection has been established is unsupported\u001b[39;00m\n\u001b[0;32m    828\u001b[0m \u001b[38;5;124;03m        in the C-Extension\"\"\"\u001b[39;00m,\n\u001b[0;32m    829\u001b[0m         category\u001b[38;5;241m=\u001b[39m\u001b[38;5;167;01mWarning\u001b[39;00m,\n\u001b[0;32m    830\u001b[0m     )\n",
      "\u001b[1;31mOperationalError\u001b[0m: MySQL Connection not available."
     ]
    }
   ],
   "source": [
    "sql_ex04 = \"\"\"\n",
    "SELECT MIN(inventory.inventory_id)\n",
    "INTO @inventory_id\n",
    "FROM inventory\n",
    "    JOIN film ON inventory.film_id = film.film_id\n",
    "WHERE \n",
    "    film.title = 'COWBOY DOOM' AND inventory.store_id = 1;\n",
    "SELECT staff.staff_id\n",
    "INTO @staff_id\n",
    "FROM staff\n",
    "WHERE \n",
    "    first_name = 'Jon' AND last_name = 'Stephens';\n",
    "SELECT customer.customer_id\n",
    "INTO @customer_id\n",
    "FROM customer\n",
    "WHERE \n",
    "    first_name = 'JESSIE' AND last_name = 'BANKS';\n",
    "\n",
    "INSERT INTO \n",
    "    rental (rental_date, inventory_id, customer_id, return_date, staff_id) \n",
    "VALUES \n",
    "    ('2019-01-01', @inventory_id, @customer_id, '2019-01-08', @staff_id);\n",
    "\"\"\"\n",
    "\n",
    "db(sql_ex04)"
   ]
  },
  {
   "cell_type": "code",
   "execution_count": 8,
   "metadata": {},
   "outputs": [
    {
     "data": {
      "application/vnd.jupyter.widget-view+json": {
       "model_id": "f69fb4485ab042f6b22f22e4ddb1d389",
       "version_major": 2,
       "version_minor": 0
      },
      "text/plain": [
       "interactive(children=(Button(description='Enviar ex04', style=ButtonStyle()), Output()), _dom_classes=('widget…"
      ]
     },
     "metadata": {},
     "output_type": "display_data"
    }
   ],
   "source": [
    "ia.sender(answer=\"sql_ex04\", task=\"views\", question=\"ex04\", answer_type=\"pyvar\")"
   ]
  },
  {
   "cell_type": "markdown",
   "metadata": {},
   "source": [
    "Verifique usando a view que a contagem de alugueis do filme subiu."
   ]
  },
  {
   "cell_type": "code",
   "execution_count": null,
   "metadata": {},
   "outputs": [
    {
     "name": "stdout",
     "output_type": "stream",
     "text": [
      "Executando query:\n"
     ]
    }
   ],
   "source": [
    "db(\"\"\"\n",
    "-- SUA QUERY AQUI!\n",
    "\"\"\")"
   ]
  },
  {
   "cell_type": "markdown",
   "metadata": {},
   "source": [
    "Faça o *rollback* desta alteração, para não modificar a nossa querida base de dados *sakila*."
   ]
  },
  {
   "cell_type": "code",
   "execution_count": null,
   "metadata": {},
   "outputs": [],
   "source": [
    "connection.rollback()"
   ]
  },
  {
   "cell_type": "markdown",
   "metadata": {},
   "source": [
    "## Tabelas temporárias"
   ]
  },
  {
   "cell_type": "markdown",
   "metadata": {},
   "source": [
    "Tabelas temporárias podem ser criadas para ajudar nas tarefas de manipulação de dados. Essas tabelas existem apenas pela duração da sessão. Para criar uma tabela temporária, basta adicionar a palavra-chave `TEMPORARY` no momento da criação.\n",
    "\n",
    "É comum criar tabelas temporárias à partir do resultado de comandos `SELECT`. Por exemplo, a seguinte query permite montar uma tabela temporária com os filmes que duram mais que 3 horas:"
   ]
  },
  {
   "cell_type": "code",
   "execution_count": null,
   "metadata": {},
   "outputs": [
    {
     "name": "stdout",
     "output_type": "stream",
     "text": [
      "Executando query:\n",
      "Executando query:\n"
     ]
    }
   ],
   "source": [
    "db(\"\"\"\n",
    "DROP TABLE IF EXISTS long_film\n",
    "\"\"\")\n",
    "\n",
    "db(\"\"\"\n",
    "CREATE TEMPORARY TABLE long_film \n",
    "    SELECT\n",
    "        *\n",
    "    FROM\n",
    "        film\n",
    "    WHERE\n",
    "        film.length > 180;\n",
    "\"\"\")"
   ]
  },
  {
   "cell_type": "markdown",
   "metadata": {},
   "source": [
    "Podemos verificar que a tabela `long_film` agora existe:"
   ]
  },
  {
   "cell_type": "code",
   "execution_count": null,
   "metadata": {
    "scrolled": true,
    "tags": []
   },
   "outputs": [
    {
     "name": "stdout",
     "output_type": "stream",
     "text": [
      "Executando query:\n",
      "('film_id', 'smallint unsigned', 'NO', '', '0', 'NULL')\n",
      "('title', 'varchar(128)', 'NO', '', None, 'NULL')\n",
      "('description', 'text', 'YES', '', None, 'NULL')\n",
      "('release_year', 'year', 'YES', '', None, 'NULL')\n",
      "('language_id', 'tinyint unsigned', 'NO', '', None, 'NULL')\n",
      "('original_language_id', 'tinyint unsigned', 'YES', '', None, 'NULL')\n",
      "('rental_duration', 'tinyint unsigned', 'NO', '', '3', 'NULL')\n",
      "('rental_rate', 'decimal(4,2)', 'NO', '', '4.99', 'NULL')\n",
      "('length', 'smallint unsigned', 'YES', '', None, 'NULL')\n",
      "('replacement_cost', 'decimal(5,2)', 'NO', '', '19.99', 'NULL')\n",
      "('rating', \"enum('G','PG','PG-13','R','NC-17')\", 'YES', '', 'G', 'NULL')\n",
      "('special_features', \"set('Trailers','Commentaries','Deleted Scenes','Behind the Scenes')\", 'YES', '', None, 'NULL')\n",
      "('last_update', 'timestamp', 'NO', '', 'CURRENT_TIMESTAMP', 'on update CURRENT_TIMESTAMP')\n"
     ]
    }
   ],
   "source": [
    "db(\"DESCRIBE long_film\")"
   ]
  },
  {
   "cell_type": "code",
   "execution_count": null,
   "metadata": {},
   "outputs": [
    {
     "name": "stdout",
     "output_type": "stream",
     "text": [
      "Executando query:\n",
      "Executando query:\n",
      "('TEMPORARY',)\n"
     ]
    }
   ],
   "source": [
    "db(\"CALL sys.table_exists('sakila', 'long_film', @table_type);\")\n",
    "db(\"SELECT @table_type;\")"
   ]
  },
  {
   "cell_type": "markdown",
   "metadata": {},
   "source": [
    "Muito embora ela não apareça na lista de tabelas: isso é um bug do MySQL. (https://dev.mysql.com/worklog/task/?id=648)"
   ]
  },
  {
   "cell_type": "code",
   "execution_count": null,
   "metadata": {},
   "outputs": [
    {
     "name": "stdout",
     "output_type": "stream",
     "text": [
      "Executando query:\n",
      "('actor',)\n",
      "('actor_info',)\n",
      "('address',)\n",
      "('category',)\n",
      "('city',)\n",
      "('country',)\n",
      "('customer',)\n",
      "('customer_list',)\n",
      "('film',)\n",
      "('film_actor',)\n",
      "('film_category',)\n",
      "('film_list',)\n",
      "('film_text',)\n",
      "('inventory',)\n",
      "('language',)\n",
      "('movie_count',)\n",
      "('nicer_but_slower_film_list',)\n",
      "('payment',)\n",
      "('rental',)\n",
      "('sales_by_film_category',)\n",
      "('sales_by_store',)\n",
      "('staff',)\n",
      "('staff_list',)\n",
      "('store',)\n"
     ]
    }
   ],
   "source": [
    "db(\"SHOW TABLES\")"
   ]
  },
  {
   "cell_type": "markdown",
   "metadata": {},
   "source": [
    "Vamos listar o conteudo desta tabela:"
   ]
  },
  {
   "cell_type": "code",
   "execution_count": null,
   "metadata": {
    "tags": []
   },
   "outputs": [
    {
     "name": "stdout",
     "output_type": "stream",
     "text": [
      "Executando query:\n",
      "('ANALYZE HOOSIERS',)\n",
      "('BAKED CLEOPATRA',)\n",
      "('CATCH AMISTAD',)\n",
      "('CHICAGO NORTH',)\n",
      "('CONSPIRACY SPIRIT',)\n",
      "('CONTROL ANTHEM',)\n",
      "('CRYSTAL BREAKING',)\n",
      "('DARN FORRESTER',)\n",
      "('FRONTIER CABIN',)\n",
      "('GANGS PRIDE',)\n",
      "('HAUNTING PIANIST',)\n",
      "('HOME PITY',)\n",
      "('HOTEL HAPPINESS',)\n",
      "('INTRIGUE WORST',)\n",
      "('JACKET FRISCO',)\n",
      "('KING EVOLUTION',)\n",
      "('LAWLESS VISION',)\n",
      "('LOVE SUICIDES',)\n",
      "('MONSOON CAUSE',)\n",
      "('MOONWALKER FOOL',)\n",
      "('MUSCLE BRIGHT',)\n",
      "('POND SEATTLE',)\n",
      "('RECORDS ZORRO',)\n",
      "('REDS POCUS',)\n",
      "('RUNAWAY TENENBAUMS',)\n",
      "('SATURN NAME',)\n",
      "('SCALAWAG DUCK',)\n",
      "('SEARCHERS WAIT',)\n",
      "('SMOOCHY CONTROL',)\n",
      "('SOLDIERS EVOLUTION',)\n",
      "('SONS INTERVIEW',)\n",
      "('SORORITY QUEEN',)\n",
      "('STAR OPERATION',)\n",
      "('SWEET BROTHERHOOD',)\n",
      "('THEORY MERMAID',)\n",
      "('WIFE TURN',)\n",
      "('WILD APOLLO',)\n",
      "('WORST BANGER',)\n",
      "('YOUNG LANGUAGE',)\n"
     ]
    }
   ],
   "source": [
    "db(\"SELECT title FROM long_film\")"
   ]
  },
  {
   "cell_type": "markdown",
   "metadata": {},
   "source": [
    "Vamos apagar a tabela `long_film`:"
   ]
  },
  {
   "cell_type": "code",
   "execution_count": null,
   "metadata": {},
   "outputs": [
    {
     "name": "stdout",
     "output_type": "stream",
     "text": [
      "Executando query:\n"
     ]
    }
   ],
   "source": [
    "db(\"DROP TABLE long_film\")"
   ]
  },
  {
   "cell_type": "markdown",
   "metadata": {},
   "source": [
    "### Vamos praticar"
   ]
  },
  {
   "cell_type": "markdown",
   "metadata": {},
   "source": [
    "- Crie uma tabela temporária `max_duration` que contém a duração máxima de filme para cada categoria. Apresente o id da categoria, seu nome e a duração máxima.\n",
    "\n",
    "**Obs**: Como nome das colunas, utilize (nesta ordem): `category_id`, `name`, `max_len`."
   ]
  },
  {
   "cell_type": "code",
   "execution_count": null,
   "metadata": {},
   "outputs": [
    {
     "name": "stdout",
     "output_type": "stream",
     "text": [
      "Executando query:\n",
      "Executando query:\n"
     ]
    }
   ],
   "source": [
    "# Executamos o DROP apenas localmente, sem enviar ao servidor\n",
    "db(\"DROP TABLE IF EXISTS max_duration\")\n",
    "\n",
    "sql_ex05 = \"\"\"\n",
    "-- SUA QUERY AQUI!\n",
    "\"\"\"\n",
    "\n",
    "db(sql_ex05)"
   ]
  },
  {
   "cell_type": "code",
   "execution_count": null,
   "metadata": {},
   "outputs": [
    {
     "data": {
      "application/vnd.jupyter.widget-view+json": {
       "model_id": "96a3e4576177470780707dd53deb7a66",
       "version_major": 2,
       "version_minor": 0
      },
      "text/plain": [
       "interactive(children=(Button(description='Enviar ex05', style=ButtonStyle()), Output()), _dom_classes=('widget…"
      ]
     },
     "metadata": {},
     "output_type": "display_data"
    }
   ],
   "source": [
    "ia.sender(answer=\"sql_ex05\", task=\"views\", question=\"ex05\", answer_type=\"pyvar\")"
   ]
  },
  {
   "cell_type": "markdown",
   "metadata": {},
   "source": [
    " - Verifique a tabela."
   ]
  },
  {
   "cell_type": "code",
   "execution_count": null,
   "metadata": {},
   "outputs": [
    {
     "name": "stdout",
     "output_type": "stream",
     "text": [
      "Executando query:\n"
     ]
    },
    {
     "ename": "ProgrammingError",
     "evalue": "1146 (42S02): Table 'sakila.max_duration' doesn't exist",
     "output_type": "error",
     "traceback": [
      "\u001b[1;31m---------------------------------------------------------------------------\u001b[0m",
      "\u001b[1;31mMySQLInterfaceError\u001b[0m                       Traceback (most recent call last)",
      "File \u001b[1;32mc:\\Users\\henri\\AppData\\Local\\Programs\\Python\\Python313\\Lib\\site-packages\\mysql\\connector\\connection_cext.py:755\u001b[0m, in \u001b[0;36mCMySQLConnection.cmd_query\u001b[1;34m(self, query, raw, buffered, raw_as_string, **kwargs)\u001b[0m\n\u001b[0;32m    754\u001b[0m         query \u001b[38;5;241m=\u001b[39m query\u001b[38;5;241m.\u001b[39mencode(\u001b[38;5;124m\"\u001b[39m\u001b[38;5;124mutf-8\u001b[39m\u001b[38;5;124m\"\u001b[39m)\n\u001b[1;32m--> 755\u001b[0m     \u001b[38;5;28;43mself\u001b[39;49m\u001b[38;5;241;43m.\u001b[39;49m\u001b[43m_cmysql\u001b[49m\u001b[38;5;241;43m.\u001b[39;49m\u001b[43mquery\u001b[49m\u001b[43m(\u001b[49m\n\u001b[0;32m    756\u001b[0m \u001b[43m        \u001b[49m\u001b[43mquery\u001b[49m\u001b[43m,\u001b[49m\n\u001b[0;32m    757\u001b[0m \u001b[43m        \u001b[49m\u001b[43mraw\u001b[49m\u001b[38;5;241;43m=\u001b[39;49m\u001b[43mraw\u001b[49m\u001b[43m,\u001b[49m\n\u001b[0;32m    758\u001b[0m \u001b[43m        \u001b[49m\u001b[43mbuffered\u001b[49m\u001b[38;5;241;43m=\u001b[39;49m\u001b[43mbuffered\u001b[49m\u001b[43m,\u001b[49m\n\u001b[0;32m    759\u001b[0m \u001b[43m        \u001b[49m\u001b[43mraw_as_string\u001b[49m\u001b[38;5;241;43m=\u001b[39;49m\u001b[43mraw_as_string\u001b[49m\u001b[43m,\u001b[49m\n\u001b[0;32m    760\u001b[0m \u001b[43m        \u001b[49m\u001b[43mquery_attrs\u001b[49m\u001b[38;5;241;43m=\u001b[39;49m\u001b[38;5;28;43mself\u001b[39;49m\u001b[38;5;241;43m.\u001b[39;49m\u001b[43mquery_attrs\u001b[49m\u001b[43m,\u001b[49m\n\u001b[0;32m    761\u001b[0m \u001b[43m    \u001b[49m\u001b[43m)\u001b[49m\n\u001b[0;32m    762\u001b[0m \u001b[38;5;28;01mexcept\u001b[39;00m MySQLInterfaceError \u001b[38;5;28;01mas\u001b[39;00m err:\n",
      "\u001b[1;31mMySQLInterfaceError\u001b[0m: Table 'sakila.max_duration' doesn't exist",
      "\nThe above exception was the direct cause of the following exception:\n",
      "\u001b[1;31mProgrammingError\u001b[0m                          Traceback (most recent call last)",
      "Cell \u001b[1;32mIn[33], line 1\u001b[0m\n\u001b[1;32m----> 1\u001b[0m \u001b[43mdb\u001b[49m\u001b[43m(\u001b[49m\u001b[38;5;124;43m\"\u001b[39;49m\u001b[38;5;124;43mSELECT * FROM max_duration\u001b[39;49m\u001b[38;5;124;43m\"\u001b[39;49m\u001b[43m)\u001b[49m\n",
      "Cell \u001b[1;32mIn[2], line 19\u001b[0m, in \u001b[0;36mrun_db_query\u001b[1;34m(connection, query, args)\u001b[0m\n\u001b[0;32m     17\u001b[0m \u001b[38;5;28;01mwith\u001b[39;00m connection\u001b[38;5;241m.\u001b[39mcursor() \u001b[38;5;28;01mas\u001b[39;00m cursor:\n\u001b[0;32m     18\u001b[0m     \u001b[38;5;28mprint\u001b[39m(\u001b[38;5;124m\"\u001b[39m\u001b[38;5;124mExecutando query:\u001b[39m\u001b[38;5;124m\"\u001b[39m)\n\u001b[1;32m---> 19\u001b[0m     \u001b[43mcursor\u001b[49m\u001b[38;5;241;43m.\u001b[39;49m\u001b[43mexecute\u001b[49m\u001b[43m(\u001b[49m\u001b[43mquery\u001b[49m\u001b[43m,\u001b[49m\u001b[43m \u001b[49m\u001b[43margs\u001b[49m\u001b[43m)\u001b[49m\n\u001b[0;32m     20\u001b[0m     \u001b[38;5;28;01mfor\u001b[39;00m result \u001b[38;5;129;01min\u001b[39;00m cursor:\n\u001b[0;32m     21\u001b[0m         \u001b[38;5;28mprint\u001b[39m(result)\n",
      "File \u001b[1;32mc:\\Users\\henri\\AppData\\Local\\Programs\\Python\\Python313\\Lib\\site-packages\\mysql\\connector\\cursor_cext.py:351\u001b[0m, in \u001b[0;36mCMySQLCursor.execute\u001b[1;34m(self, operation, params, map_results)\u001b[0m\n\u001b[0;32m    343\u001b[0m \u001b[38;5;28mself\u001b[39m\u001b[38;5;241m.\u001b[39m_executed \u001b[38;5;241m=\u001b[39m (\n\u001b[0;32m    344\u001b[0m     \u001b[38;5;28mself\u001b[39m\u001b[38;5;241m.\u001b[39m_stmt_partition[\u001b[38;5;124m\"\u001b[39m\u001b[38;5;124msingle_stmts\u001b[39m\u001b[38;5;124m\"\u001b[39m]\u001b[38;5;241m.\u001b[39mpopleft()\n\u001b[0;32m    345\u001b[0m     \u001b[38;5;28;01mif\u001b[39;00m map_results\n\u001b[0;32m    346\u001b[0m     \u001b[38;5;28;01melse\u001b[39;00m \u001b[38;5;28mself\u001b[39m\u001b[38;5;241m.\u001b[39m_stmt_partition[\u001b[38;5;124m\"\u001b[39m\u001b[38;5;124mmappable_stmt\u001b[39m\u001b[38;5;124m\"\u001b[39m]\n\u001b[0;32m    347\u001b[0m )\n\u001b[0;32m    349\u001b[0m \u001b[38;5;28;01mtry\u001b[39;00m:\n\u001b[0;32m    350\u001b[0m     \u001b[38;5;28mself\u001b[39m\u001b[38;5;241m.\u001b[39m_handle_result(\n\u001b[1;32m--> 351\u001b[0m         \u001b[38;5;28;43mself\u001b[39;49m\u001b[38;5;241;43m.\u001b[39;49m\u001b[43m_connection\u001b[49m\u001b[38;5;241;43m.\u001b[39;49m\u001b[43mcmd_query\u001b[49m\u001b[43m(\u001b[49m\n\u001b[0;32m    352\u001b[0m \u001b[43m            \u001b[49m\u001b[38;5;28;43mself\u001b[39;49m\u001b[38;5;241;43m.\u001b[39;49m\u001b[43m_stmt_partition\u001b[49m\u001b[43m[\u001b[49m\u001b[38;5;124;43m\"\u001b[39;49m\u001b[38;5;124;43mmappable_stmt\u001b[39;49m\u001b[38;5;124;43m\"\u001b[39;49m\u001b[43m]\u001b[49m\u001b[43m,\u001b[49m\n\u001b[0;32m    353\u001b[0m \u001b[43m            \u001b[49m\u001b[43mraw\u001b[49m\u001b[38;5;241;43m=\u001b[39;49m\u001b[38;5;28;43mself\u001b[39;49m\u001b[38;5;241;43m.\u001b[39;49m\u001b[43m_raw\u001b[49m\u001b[43m,\u001b[49m\n\u001b[0;32m    354\u001b[0m \u001b[43m            \u001b[49m\u001b[43mbuffered\u001b[49m\u001b[38;5;241;43m=\u001b[39;49m\u001b[38;5;28;43mself\u001b[39;49m\u001b[38;5;241;43m.\u001b[39;49m\u001b[43m_buffered\u001b[49m\u001b[43m,\u001b[49m\n\u001b[0;32m    355\u001b[0m \u001b[43m            \u001b[49m\u001b[43mraw_as_string\u001b[49m\u001b[38;5;241;43m=\u001b[39;49m\u001b[38;5;28;43mself\u001b[39;49m\u001b[38;5;241;43m.\u001b[39;49m\u001b[43m_raw_as_string\u001b[49m\u001b[43m,\u001b[49m\n\u001b[0;32m    356\u001b[0m \u001b[43m        \u001b[49m\u001b[43m)\u001b[49m\n\u001b[0;32m    357\u001b[0m     )\n\u001b[0;32m    358\u001b[0m \u001b[38;5;28;01mexcept\u001b[39;00m MySQLInterfaceError \u001b[38;5;28;01mas\u001b[39;00m err:\n\u001b[0;32m    359\u001b[0m     \u001b[38;5;28;01mraise\u001b[39;00m get_mysql_exception(\n\u001b[0;32m    360\u001b[0m         msg\u001b[38;5;241m=\u001b[39merr\u001b[38;5;241m.\u001b[39mmsg, errno\u001b[38;5;241m=\u001b[39merr\u001b[38;5;241m.\u001b[39merrno, sqlstate\u001b[38;5;241m=\u001b[39merr\u001b[38;5;241m.\u001b[39msqlstate\n\u001b[0;32m    361\u001b[0m     ) \u001b[38;5;28;01mfrom\u001b[39;00m\u001b[38;5;250m \u001b[39m\u001b[38;5;21;01merr\u001b[39;00m\n",
      "File \u001b[1;32mc:\\Users\\henri\\AppData\\Local\\Programs\\Python\\Python313\\Lib\\site-packages\\mysql\\connector\\opentelemetry\\context_propagation.py:97\u001b[0m, in \u001b[0;36mwith_context_propagation.<locals>.wrapper\u001b[1;34m(cnx, *args, **kwargs)\u001b[0m\n\u001b[0;32m     95\u001b[0m \u001b[38;5;66;03m# pylint: disable=possibly-used-before-assignment\u001b[39;00m\n\u001b[0;32m     96\u001b[0m \u001b[38;5;28;01mif\u001b[39;00m \u001b[38;5;129;01mnot\u001b[39;00m OTEL_ENABLED \u001b[38;5;129;01mor\u001b[39;00m \u001b[38;5;129;01mnot\u001b[39;00m cnx\u001b[38;5;241m.\u001b[39motel_context_propagation:\n\u001b[1;32m---> 97\u001b[0m     \u001b[38;5;28;01mreturn\u001b[39;00m \u001b[43mmethod\u001b[49m\u001b[43m(\u001b[49m\u001b[43mcnx\u001b[49m\u001b[43m,\u001b[49m\u001b[43m \u001b[49m\u001b[38;5;241;43m*\u001b[39;49m\u001b[43margs\u001b[49m\u001b[43m,\u001b[49m\u001b[43m \u001b[49m\u001b[38;5;241;43m*\u001b[39;49m\u001b[38;5;241;43m*\u001b[39;49m\u001b[43mkwargs\u001b[49m\u001b[43m)\u001b[49m\n\u001b[0;32m     99\u001b[0m current_span \u001b[38;5;241m=\u001b[39m trace\u001b[38;5;241m.\u001b[39mget_current_span()\n\u001b[0;32m    100\u001b[0m tp_header \u001b[38;5;241m=\u001b[39m \u001b[38;5;28;01mNone\u001b[39;00m\n",
      "File \u001b[1;32mc:\\Users\\henri\\AppData\\Local\\Programs\\Python\\Python313\\Lib\\site-packages\\mysql\\connector\\connection_cext.py:763\u001b[0m, in \u001b[0;36mCMySQLConnection.cmd_query\u001b[1;34m(self, query, raw, buffered, raw_as_string, **kwargs)\u001b[0m\n\u001b[0;32m    755\u001b[0m     \u001b[38;5;28mself\u001b[39m\u001b[38;5;241m.\u001b[39m_cmysql\u001b[38;5;241m.\u001b[39mquery(\n\u001b[0;32m    756\u001b[0m         query,\n\u001b[0;32m    757\u001b[0m         raw\u001b[38;5;241m=\u001b[39mraw,\n\u001b[1;32m   (...)\u001b[0m\n\u001b[0;32m    760\u001b[0m         query_attrs\u001b[38;5;241m=\u001b[39m\u001b[38;5;28mself\u001b[39m\u001b[38;5;241m.\u001b[39mquery_attrs,\n\u001b[0;32m    761\u001b[0m     )\n\u001b[0;32m    762\u001b[0m \u001b[38;5;28;01mexcept\u001b[39;00m MySQLInterfaceError \u001b[38;5;28;01mas\u001b[39;00m err:\n\u001b[1;32m--> 763\u001b[0m     \u001b[38;5;28;01mraise\u001b[39;00m get_mysql_exception(\n\u001b[0;32m    764\u001b[0m         err\u001b[38;5;241m.\u001b[39merrno, msg\u001b[38;5;241m=\u001b[39merr\u001b[38;5;241m.\u001b[39mmsg, sqlstate\u001b[38;5;241m=\u001b[39merr\u001b[38;5;241m.\u001b[39msqlstate\n\u001b[0;32m    765\u001b[0m     ) \u001b[38;5;28;01mfrom\u001b[39;00m\u001b[38;5;250m \u001b[39m\u001b[38;5;21;01merr\u001b[39;00m\n\u001b[0;32m    766\u001b[0m \u001b[38;5;28;01mexcept\u001b[39;00m \u001b[38;5;167;01mAttributeError\u001b[39;00m \u001b[38;5;28;01mas\u001b[39;00m err:\n\u001b[0;32m    767\u001b[0m     addr \u001b[38;5;241m=\u001b[39m (\n\u001b[0;32m    768\u001b[0m         \u001b[38;5;28mself\u001b[39m\u001b[38;5;241m.\u001b[39m_unix_socket \u001b[38;5;28;01mif\u001b[39;00m \u001b[38;5;28mself\u001b[39m\u001b[38;5;241m.\u001b[39m_unix_socket \u001b[38;5;28;01melse\u001b[39;00m \u001b[38;5;124mf\u001b[39m\u001b[38;5;124m\"\u001b[39m\u001b[38;5;132;01m{\u001b[39;00m\u001b[38;5;28mself\u001b[39m\u001b[38;5;241m.\u001b[39m_host\u001b[38;5;132;01m}\u001b[39;00m\u001b[38;5;124m:\u001b[39m\u001b[38;5;132;01m{\u001b[39;00m\u001b[38;5;28mself\u001b[39m\u001b[38;5;241m.\u001b[39m_port\u001b[38;5;132;01m}\u001b[39;00m\u001b[38;5;124m\"\u001b[39m\n\u001b[0;32m    769\u001b[0m     )\n",
      "\u001b[1;31mProgrammingError\u001b[0m: 1146 (42S02): Table 'sakila.max_duration' doesn't exist"
     ]
    }
   ],
   "source": [
    "db(\"SELECT * FROM max_duration\")"
   ]
  },
  {
   "cell_type": "code",
   "execution_count": null,
   "metadata": {},
   "outputs": [],
   "source": [
    "db(\"DESCRIBE max_duration\")"
   ]
  },
  {
   "cell_type": "markdown",
   "metadata": {},
   "source": [
    "- Agora use a tabela temporária para construir uma consulta com as categorias e seus respectivos filmes mais longos:"
   ]
  },
  {
   "cell_type": "code",
   "execution_count": null,
   "metadata": {},
   "outputs": [],
   "source": [
    "db(\"\"\"\n",
    "SELECT\n",
    "    category_id, name, film_id, title, length\n",
    "FROM\n",
    "    film\n",
    "    INNER JOIN film_category USING (film_id)\n",
    "    INNTER JOIN category USING (category_id)\n",
    "    INNER JOIN max_duration USING (category_id)\n",
    "WHERE\n",
    "    length = max_len\n",
    "\"\"\")"
   ]
  },
  {
   "cell_type": "markdown",
   "metadata": {},
   "source": [
    "- delete a tabela temporária"
   ]
  },
  {
   "cell_type": "code",
   "execution_count": null,
   "metadata": {},
   "outputs": [],
   "source": [
    "db(\"\"\"\n",
    "DROP TABLE max_duration\n",
    "\"\"\")"
   ]
  },
  {
   "cell_type": "markdown",
   "metadata": {
    "tags": []
   },
   "source": [
    "## Variáveis\n",
    "\n",
    "Podemos montar uma query que retorne um valor só e armazenar este valor em uma variável, para uso posterior em outras queries. Para isso vamos usar o prefixo '@' para indicar variáveis, e o comando `SELECT ... INTO`.\n",
    "\n",
    "Exemplo: quais são os filmes \"caros\" da nossa base sakila? Vamos descobrir quais filmes custam mais que um desvio padrão acima da média de preços de locação.\n",
    "\n",
    "Primeiro vamos calcular a média e o desvio padrão dos preços de aluguel:"
   ]
  },
  {
   "cell_type": "code",
   "execution_count": null,
   "metadata": {},
   "outputs": [],
   "source": [
    "db(\"\"\"\n",
    "SELECT \n",
    "    AVG(rental_rate), \n",
    "    STDDEV(rental_rate)\n",
    "INTO \n",
    "    @avg_rate, \n",
    "    @stddev_rate \n",
    "FROM\n",
    "    film;\n",
    "\"\"\")"
   ]
  },
  {
   "cell_type": "markdown",
   "metadata": {},
   "source": [
    "Note que a query não retorna um resultado: o resultado foi armazenado direto nas variáveis `@avg_rate` e `@stddev_rate`. Vamos usar um `SELECT` sem tabelas para ver o resultado:"
   ]
  },
  {
   "cell_type": "code",
   "execution_count": null,
   "metadata": {},
   "outputs": [],
   "source": [
    "db(\"SELECT @avg_rate, @stddev_rate\")"
   ]
  },
  {
   "cell_type": "markdown",
   "metadata": {},
   "source": [
    "Agora podemos selecionar os filmes caros!"
   ]
  },
  {
   "cell_type": "code",
   "execution_count": null,
   "metadata": {
    "tags": []
   },
   "outputs": [],
   "source": [
    "db(\"\"\"\n",
    "SELECT \n",
    "    title, rental_rate\n",
    "FROM\n",
    "    film\n",
    "WHERE\n",
    "    rental_rate > @avg_rate + @stddev_rate\n",
    "LIMIT 10\n",
    "\"\"\")"
   ]
  },
  {
   "cell_type": "markdown",
   "metadata": {},
   "source": [
    "### Vamos praticar"
   ]
  },
  {
   "cell_type": "markdown",
   "metadata": {},
   "source": [
    "Armazene na variável temporária `max_films` a quantidade de filmes feitos pelo ator ou atriz que mais participou de filmes."
   ]
  },
  {
   "cell_type": "code",
   "execution_count": null,
   "metadata": {},
   "outputs": [],
   "source": [
    "sql_ex06 = \"\"\"\n",
    "-- SUA QUERY AQUI!\n",
    "\"\"\"\n",
    "\n",
    "db(sql_ex06)"
   ]
  },
  {
   "cell_type": "code",
   "execution_count": null,
   "metadata": {},
   "outputs": [],
   "source": [
    "db(\"\"\"\n",
    "SELECT @max_films\n",
    "\"\"\")"
   ]
  },
  {
   "cell_type": "code",
   "execution_count": null,
   "metadata": {},
   "outputs": [],
   "source": [
    "ia.sender(answer=\"sql_ex06\", task=\"views\", question=\"ex06\", answer_type=\"pyvar\")"
   ]
  },
  {
   "cell_type": "markdown",
   "metadata": {},
   "source": [
    "## Operador `IN`"
   ]
  },
  {
   "cell_type": "markdown",
   "metadata": {},
   "source": [
    "Suponha que desejamos listar todos os filmes dos 3 atores mais populares. Podemos começar listando os 3 atores mais populares:"
   ]
  },
  {
   "cell_type": "code",
   "execution_count": null,
   "metadata": {},
   "outputs": [],
   "source": [
    "db(\"\"\"\n",
    "SELECT \n",
    "    actor_id, first_name, last_name, COUNT(film_id) AS num_films\n",
    "FROM\n",
    "    actor\n",
    "    INNER JOIN film_actor USING (actor_id)\n",
    "GROUP BY \n",
    "    actor_id\n",
    "ORDER BY \n",
    "    num_films DESC\n",
    "LIMIT 3\n",
    "\"\"\")"
   ]
  },
  {
   "cell_type": "markdown",
   "metadata": {},
   "source": [
    "Vamos criar uma tabela temporária para guardar a informação de `actor_id` desses atores:"
   ]
  },
  {
   "cell_type": "code",
   "execution_count": null,
   "metadata": {},
   "outputs": [],
   "source": [
    "db(\"DROP TABLE IF EXISTS temp_pop_actors\")\n",
    "db(\"\"\"\n",
    "CREATE TEMPORARY TABLE temp_pop_actors\n",
    "    SELECT first_name, last_name, actor_id FROM\n",
    "        actor\n",
    "        INNER JOIN film_actor USING (actor_id)\n",
    "    GROUP BY \n",
    "        actor_id\n",
    "    ORDER BY \n",
    "        COUNT(film_id) DESC\n",
    "    LIMIT 3\n",
    "\"\"\")\n",
    "db(\"\"\"\n",
    "SELECT * from temp_pop_actors\n",
    "\"\"\")"
   ]
  },
  {
   "cell_type": "markdown",
   "metadata": {},
   "source": [
    "Por fim, vamos usar essa informação para listar os filmes dos atores populares:"
   ]
  },
  {
   "cell_type": "code",
   "execution_count": null,
   "metadata": {},
   "outputs": [],
   "source": [
    "db(\"\"\"\n",
    "SELECT DISTINCT\n",
    "    title\n",
    "FROM\n",
    "    film\n",
    "    INNER JOIN film_actor USING (film_id)\n",
    "WHERE\n",
    "    actor_id IN (SELECT actor_id FROM temp_pop_actors);\n",
    "\"\"\")"
   ]
  },
  {
   "cell_type": "markdown",
   "metadata": {},
   "source": [
    "Note o uso de *subqueries*!\n",
    "\n",
    "Não se esqueça de limpar tudo no final!"
   ]
  },
  {
   "cell_type": "code",
   "execution_count": null,
   "metadata": {},
   "outputs": [],
   "source": [
    "db(\"DROP TABLE temp_pop_actors\")"
   ]
  },
  {
   "cell_type": "markdown",
   "metadata": {},
   "source": [
    "### Vamos praticar"
   ]
  },
  {
   "cell_type": "markdown",
   "metadata": {},
   "source": [
    "Liste os atores (id, nome e sobrenome) que participaram dos 3 filmes mais rentáveis (aqueles que mais geraram receita para a locadora) ordenados pelo id do ator de modo crescente. Para isso, crie uma tabela temporária contendo o id do filme e a quantia total e use essa tabela para listar os atores."
   ]
  },
  {
   "cell_type": "code",
   "execution_count": null,
   "metadata": {},
   "outputs": [],
   "source": [
    "db(\"\"\"\n",
    "-- SUA QUERY AQUI!\n",
    "\"\"\")\n",
    "db(\"\"\"\n",
    "-- SUA QUERY AQUI!\n",
    "\"\"\")"
   ]
  },
  {
   "cell_type": "code",
   "execution_count": null,
   "metadata": {},
   "outputs": [],
   "source": [
    "sql_ex07 = [\"\"\"\n",
    "-- SUA QUERY AQUI!\n",
    "\"\"\",\n",
    "\"\"\"\n",
    "-- SUA QUERY AQUI!\n",
    "\"\"\"]\n",
    "\n",
    "ia.sender(answer=\"sql_ex07\", task=\"views\", question=\"ex07\", answer_type=\"pyvar\")"
   ]
  },
  {
   "cell_type": "markdown",
   "metadata": {},
   "source": [
    "## Subqueries"
   ]
  },
  {
   "cell_type": "markdown",
   "metadata": {},
   "source": [
    "Os tópicos discutidos acima poderiam ser resolvidos, em grande parte, com subqueries. As subqueries são queries `SELECT` criadas dentro de outras queries. \n",
    "\n",
    "Poderíamos ter usado subqueries nos mesmos lugares onde usamos tabelas temporárias, nos tópicos acima. Quando a subquery pode ser transformada em uma tabela temporária independente, separada da query exterior, dizemos que a subquery é **não-correlacionada** com a query exterior.\n",
    "\n",
    "Usar subqueries não-correlacionadas é um tópico controverso: podemos sempre usar uma tabela temporária ou, ás vezes, pensar em um `JOIN` simples. Aliás, muitas vezes o otimizador de queries do banco de dados transformará a subquery em `JOIN`, se isso for vantajoso em termos de desempenho.\n",
    "\n",
    "Uma subquery que depende da query externa (e portanto não pode ser separada em uma tabela temporária independente) é chamada de **subquery correlacionada**. Nestes casos podemos ter que executar a subquery para cada linha da query exterior! "
   ]
  },
  {
   "cell_type": "markdown",
   "metadata": {},
   "source": [
    "### Vamos praticar"
   ]
  },
  {
   "cell_type": "markdown",
   "metadata": {},
   "source": [
    "Vamos refazer a atividade dos atores dos filmes mais rentáveis, usando subqueries. \n",
    "\n",
    "Temos um problema: o MySQL não suporta ``LIMIT`` em subqueries com o operador ``IN``. Vamos investigar isso mais de perto. \n",
    "\n",
    "Em primeiro lugar faça uma tradução direta da implementação da atividade anterior trocando tabela temporária por subquery."
   ]
  },
  {
   "cell_type": "code",
   "execution_count": null,
   "metadata": {},
   "outputs": [],
   "source": [
    "try:\n",
    "    db(\"\"\"\n",
    "-- SUA QUERY AQUI!\n",
    "    \"\"\")\n",
    "except mysql.connector.ProgrammingError as e:\n",
    "    print(f\"ProgrammingError: {e}\")"
   ]
  },
  {
   "cell_type": "markdown",
   "metadata": {},
   "source": [
    "Ok, apareceu o problema. Mas considere que o problema original não precisava de IN desde o começo! Construa essa solução."
   ]
  },
  {
   "cell_type": "code",
   "execution_count": null,
   "metadata": {},
   "outputs": [],
   "source": [
    "sql_ex08 = \"\"\"\n",
    "-- SUA QUERY AQUI!\n",
    "\"\"\"\n",
    "\n",
    "db(sql_ex08)"
   ]
  },
  {
   "cell_type": "code",
   "execution_count": null,
   "metadata": {},
   "outputs": [],
   "source": [
    "ia.sender(answer=\"sql_ex08\", task=\"views\", question=\"ex08\", answer_type=\"pyvar\")"
   ]
  },
  {
   "cell_type": "markdown",
   "metadata": {},
   "source": [
    "# `UNION`\n",
    "\n",
    "Quando duas tabelas tem **EXATAMENTE** as mesmas colunas, podemos concatená-las e formar uma grande tabela unificada usando o operador `UNION`. Por exemplo: suponha que desejamos montar uma lista dos nomes e sobrenomes de todos os clientes E de todos os funcionários. Eis uma solução possível:"
   ]
  },
  {
   "cell_type": "code",
   "execution_count": null,
   "metadata": {},
   "outputs": [],
   "source": [
    "db(\"DROP TABLE IF EXISTS nomes_clientes\")\n",
    "db(\"\"\"\n",
    "CREATE TEMPORARY TABLE nomes_clientes \n",
    "    SELECT first_name, last_name FROM customer\n",
    "\"\"\")"
   ]
  },
  {
   "cell_type": "code",
   "execution_count": null,
   "metadata": {},
   "outputs": [],
   "source": [
    "db(\"DESCRIBE nomes_clientes\")\n",
    "db(\"SELECT * FROM nomes_clientes LIMIT 5\")"
   ]
  },
  {
   "cell_type": "code",
   "execution_count": null,
   "metadata": {},
   "outputs": [],
   "source": [
    "db(\"DROP TABLE IF EXISTS nomes_staff\")\n",
    "db(\"\"\"\n",
    "CREATE TEMPORARY TABLE nomes_staff \n",
    "    SELECT first_name, last_name FROM staff\n",
    "\"\"\")"
   ]
  },
  {
   "cell_type": "code",
   "execution_count": null,
   "metadata": {},
   "outputs": [],
   "source": [
    "db(\"DESCRIBE nomes_staff\")\n",
    "db(\"SELECT * FROM nomes_staff LIMIT 5\")"
   ]
  },
  {
   "cell_type": "code",
   "execution_count": null,
   "metadata": {},
   "outputs": [],
   "source": [
    "db(\"DROP TABLE IF EXISTS nomes_all\")\n",
    "db(\"\"\"\n",
    "CREATE TEMPORARY TABLE nomes_all \n",
    "    (SELECT * FROM nomes_staff)\n",
    "    UNION \n",
    "    (SELECT * FROM nomes_clientes)\n",
    "\"\"\")"
   ]
  },
  {
   "cell_type": "code",
   "execution_count": null,
   "metadata": {},
   "outputs": [],
   "source": [
    "db(\"DESCRIBE nomes_all\")\n",
    "db(\"SELECT * FROM nomes_all LIMIT 5\")"
   ]
  },
  {
   "cell_type": "code",
   "execution_count": null,
   "metadata": {},
   "outputs": [],
   "source": [
    "db(\"DROP TABLE IF EXISTS nomes_clientes\")\n",
    "db(\"DROP TABLE IF EXISTS nomes_staff\")\n",
    "db(\"DROP TABLE IF EXISTS nomes_all\")"
   ]
  },
  {
   "cell_type": "markdown",
   "metadata": {},
   "source": [
    "**Vamos praticar:** refaça o exemplo acima mas use *subqueries* ao invés de *temp tables*. Ordene de forma ascendente por first_name e last_name."
   ]
  },
  {
   "cell_type": "code",
   "execution_count": null,
   "metadata": {},
   "outputs": [],
   "source": [
    "sql_ex09 = \"\"\"\n",
    "-- SUA QUERY AQUI!\n",
    "\"\"\"\n",
    "\n",
    "db(sql_ex09)"
   ]
  },
  {
   "cell_type": "code",
   "execution_count": null,
   "metadata": {},
   "outputs": [],
   "source": [
    "ia.sender(answer=\"sql_ex09\", task=\"views\", question=\"ex09\", answer_type=\"pyvar\")"
   ]
  },
  {
   "cell_type": "markdown",
   "metadata": {},
   "source": [
    "## Desafios!"
   ]
  },
  {
   "cell_type": "markdown",
   "metadata": {},
   "source": [
    "Faça uma lista de filmes que tenham mais de dois atores cujo nome inicia com a mesma letra do título do filme! Apresente o nome e a quantidade de atores. Ordene pelo id do filme. Dica: Pesquise a função `LEFT`"
   ]
  },
  {
   "cell_type": "code",
   "execution_count": null,
   "metadata": {},
   "outputs": [],
   "source": [
    "sql_ex10 = \"\"\"\n",
    "-- SUA QUERY AQUI!\n",
    "\"\"\"\n",
    "db(sql_ex10)"
   ]
  },
  {
   "cell_type": "code",
   "execution_count": null,
   "metadata": {},
   "outputs": [],
   "source": [
    "ia.sender(answer=\"sql_ex10\", task=\"views\", question=\"ex10\", answer_type=\"pyvar\")"
   ]
  },
  {
   "cell_type": "markdown",
   "metadata": {},
   "source": [
    "Semana do \"DAN HARRIS\": liste os clientes (nome e sobrenome) que nunca assistiram um filme do ator \"DAN HARRIS\" ou que já assistiram mas a ultima vez em que assistiram um filme dele foi antes de '2005-06-01'. Ordene pelo nome e sobrenome do cliente.\n",
    "\n",
    "Considerem que a pessoa pode ter assistido um filme de Dan Harris se:\n",
    "\n",
    "- Devolveu em 2005-06-01 ou depois\n",
    "- Alugou em 2005-06-01 ou depois\n",
    "- Alugou antes de 2005-06-01 e ainda não devolveu"
   ]
  },
  {
   "cell_type": "code",
   "execution_count": null,
   "metadata": {},
   "outputs": [],
   "source": [
    "sql_ex11 = \"\"\"\n",
    "-- SUA QUERY AQUI!\n",
    "\"\"\"\n",
    "db(sql_ex11)"
   ]
  },
  {
   "cell_type": "code",
   "execution_count": null,
   "metadata": {},
   "outputs": [],
   "source": [
    "ia.sender(answer=\"sql_ex11\", task=\"views\", question=\"ex11\", answer_type=\"pyvar\")"
   ]
  },
  {
   "cell_type": "markdown",
   "metadata": {},
   "source": [
    "- Faça uma consulta que retorne, para cada ator, a seguinte informação:\n",
    "\n",
    "| first_name | last_name | filmes por categoria |\n",
    "|--|--|--|\n",
    "| PENELOPE | GUINESS | Animation: ANACONDA CONFESSIONS; Children: LANGUAGE COWBOY; Classics: COLOR PHILADELPHIA, WESTWARD SEABISCUIT; Comedy: VERTIGO NORTHWEST; Documentary: ACADEMY DINOSAUR; Family: KING EVOLUTION, SPLASH GUMP; Foreign: MULHOLLAND BEAST; Games: BULWORTH COMMANDMENTS, HUMAN GRAFFITI; Horror: ELEPHANT TROJAN, LADY STAGE, RULES HUMAN; Music: WIZARD COLDBLOODED; New: ANGELS LIFE, OKLAHOMA JUMANJI; Sci-Fi: CHEAPER CLYDE; Sports: GLEAMING JAWBREAKER |\n",
    "| NICK | WAHLBERG | Action: BULL SHAWSHANK; Animation: FIGHT JAWBREAKER; Children: JERSEY SASSY; Classics: DRACULA CRYSTAL, GILBERT PELICAN; Comedy: MALLRATS UNITED, RUSHMORE MERMAID; Documentary: ADAPTATION HOLES; Drama: WARDROBE PHANTOM; Family: APACHE DIVINE, CHISUM BEHAVIOR, INDIAN LOVE, MAGUIRE APACHE; Foreign: BABY HALL, HAPPINESS UNITED; Games: ROOF CHAMPION; Music: LUCKY FLYING; New: DESTINY SATURDAY, FLASH WARS, JEKYLL FROGMEN, MASK PEACH; Sci-Fi: CHAINSAW UPTOWN, GOODFELLAS SALUTE; Travel: LIAISONS SWEET, SMILE EARRING |\n",
    "| etc | etc | etc |\n",
    "\n",
    "Ordene pelo nome e sobrenome do ator.\n",
    "\n",
    "Dica: use `GROUP_CONCAT` para agrupar todas as strings de uma coluna em uma string só, e `CONCAT` para unir strings particulares."
   ]
  },
  {
   "cell_type": "code",
   "execution_count": null,
   "metadata": {},
   "outputs": [],
   "source": [
    "sql_ex12 = \"\"\"\n",
    "-- SUA QUERY AQUI!\n",
    "\"\"\"\n",
    "\n",
    "db(sql_ex12)"
   ]
  },
  {
   "cell_type": "code",
   "execution_count": null,
   "metadata": {},
   "outputs": [],
   "source": [
    "ia.sender(answer=\"sql_ex12\", task=\"views\", question=\"ex12\", answer_type=\"pyvar\")"
   ]
  },
  {
   "cell_type": "markdown",
   "metadata": {},
   "source": [
    "## Conclusão"
   ]
  },
  {
   "cell_type": "markdown",
   "metadata": {},
   "source": [
    "Façamos uma pausa para apreciar quão longe estamos: já conseguimos criar nossas tabelas, inserir informação, removê-la, atualizá-la, e consultar nossa base de maneiras bem sofisticadas! Vimos desde `SELECT` simples até buscas mais complexas envolvendo várias etapas de processamento para obter o dado desejado.\n",
    "\n",
    "Por hoje é só, feche sua conexão e bom descanso!"
   ]
  },
  {
   "cell_type": "code",
   "execution_count": null,
   "metadata": {},
   "outputs": [],
   "source": [
    "connection.close()"
   ]
  },
  {
   "cell_type": "markdown",
   "metadata": {},
   "source": [
    "## Conferir Notas\n",
    "\n",
    "Confira se as notas na atividade são as esperadas!\n",
    "\n",
    "Primeiro na atividade atual!"
   ]
  },
  {
   "cell_type": "code",
   "execution_count": null,
   "metadata": {},
   "outputs": [],
   "source": [
    "ia.grades(by=\"TASK\", task=\"views\")"
   ]
  },
  {
   "cell_type": "code",
   "execution_count": null,
   "metadata": {},
   "outputs": [],
   "source": [
    "ia.grades(task=\"views\")"
   ]
  },
  {
   "cell_type": "code",
   "execution_count": null,
   "metadata": {},
   "outputs": [],
   "source": [
    "ia.grades(by=\"task\")"
   ]
  }
 ],
 "metadata": {
  "kernelspec": {
   "display_name": "Python 3",
   "language": "python",
   "name": "python3"
  },
  "language_info": {
   "codemirror_mode": {
    "name": "ipython",
    "version": 3
   },
   "file_extension": ".py",
   "mimetype": "text/x-python",
   "name": "python",
   "nbconvert_exporter": "python",
   "pygments_lexer": "ipython3",
   "version": "3.13.2"
  }
 },
 "nbformat": 4,
 "nbformat_minor": 4
}
